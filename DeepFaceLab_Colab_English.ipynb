{
  "nbformat": 4,
  "nbformat_minor": 0,
  "metadata": {
    "colab": {
      "name": "DeepFaceLab_Colab English.ipynb",
      "provenance": [],
      "collapsed_sections": [],
      "toc_visible": true,
      "include_colab_link": true
    },
    "kernelspec": {
      "name": "python3",
      "display_name": "Python 3"
    },
    "accelerator": "GPU"
  },
  "cells": [
    {
      "cell_type": "markdown",
      "metadata": {
        "id": "view-in-github",
        "colab_type": "text"
      },
      "source": [
        "<a href=\"https://colab.research.google.com/github/loepin/DeepFaceLab_Colab/blob/master/DeepFaceLab_Colab_English.ipynb\" target=\"_parent\"><img src=\"https://colab.research.google.com/assets/colab-badge.svg\" alt=\"Open In Colab\"/></a>"
      ]
    },
    {
      "cell_type": "markdown",
      "metadata": {
        "id": "KWQMLYlFrTXz",
        "colab_type": "text"
      },
      "source": [
        "# Introduction\n",
        "\n",
        "Needless to say, you can run all the way!\n",
        "\n",
        "This script was created by **[Tony is Tucker](https://wxp123.me)**, only for learning, don't abuse it. If in doubt, pull to the end!"
      ]
    },
    {
      "cell_type": "code",
      "metadata": {
        "id": "AmGMbWZef1XI",
        "colab_type": "code",
        "cellView": "form",
        "colab": {}
      },
      "source": [
        "#@title Check GPU\n",
        "# View device, is K80 or T4, if it is K80...！\n",
        "! /opt/bin/nvidia-smi"
      ],
      "execution_count": 0,
      "outputs": []
    },
    {
      "cell_type": "markdown",
      "metadata": {
        "id": "ldpC3PjRrYYh",
        "colab_type": "text"
      },
      "source": [
        "# First step, ready workspace\n",
        "You can choose two ways in this step.\n",
        "1. With the default workspace, you don't need to upload it yourself, just for familiarity with the operation.\n",
        "2. Upload your workspace to the specified directory via Google Drive.\n",
        "\n",
        "\n",
        "\n",
        "Google Cloud Disk Address: https://drive.google.com/drive/my-drive\n",
        "Note: Google's website now requires \"scientific internet access\" to access.  "
      ]
    },
    {
      "cell_type": "code",
      "metadata": {
        "id": "D7toZxhT4J9W",
        "colab_type": "code",
        "cellView": "form",
        "colab": {}
      },
      "source": [
        "#@title Start mounting\n",
        "#Mount Google Cloud Drive\n",
        "#Click the link authorization, copy the authorization code, fill in the box, and then press Enter.\n",
        "\n",
        "from google.colab import drive\n",
        "drive.mount('/content/drive', force_remount=True)\n",
        "\n",
        "#Create a DeepFaceLab directory and go to the directory\n",
        "%cd /content/drive/My Drive/\n",
        "!mkdir DeepFaceLab\n",
        "%cd /content/drive/My Drive/DeepFaceLab/\n"
      ],
      "execution_count": 0,
      "outputs": []
    },
    {
      "cell_type": "markdown",
      "metadata": {
        "id": "_nyimmWVKk8V",
        "colab_type": "text"
      },
      "source": [
        "After the mount is successful, you can load an official workspace or upload your own workspace via Google Cloud.\n",
        "Note that the uploaded zip file is in zip format. The file name must be workspace.zip\n",
        "It is recommended that this workspace only contains src, dst, etc., does not contain the model, so the sixth will not overwrite the model file.\n",
        "The model file is relatively small and can be directly uploaded to the model directory without compression."
      ]
    },
    {
      "cell_type": "code",
      "metadata": {
        "id": "cNsq0I98KvHl",
        "colab_type": "code",
        "cellView": "form",
        "colab": {}
      },
      "source": [
        "#@title Load the sample project workspace\n",
        "# 1. Hands-on can use this line, directly git clone a workspace\n",
        "!rm -rf workspace\n",
        "!git clone https://github.com/dream80/DFLWorkspace.git workspace"
      ],
      "execution_count": 0,
      "outputs": []
    },
    {
      "cell_type": "code",
      "metadata": {
        "id": "w6ViQYB_Cupc",
        "colab_type": "code",
        "cellView": "form",
        "colab": {}
      },
      "source": [
        "#@title Unzip your project workspace\n",
        "#You need to upload the workspace.zip to the DeepFaceLab directory of Google Cloud.\n",
        "!unzip  workspace.zip"
      ],
      "execution_count": 0,
      "outputs": []
    },
    {
      "cell_type": "markdown",
      "metadata": {
        "id": "yA4nziLPtAf9",
        "colab_type": "text"
      },
      "source": [
        "#Step 2 Install DeepFaceLab\n",
        "Get the source code, install the dependencies, choose the version according to your situation\n",
        "620: stable version, a better version\n",
        "1019: Support for SAEHD version\n",
        "Last: latest version "
      ]
    },
    {
      "cell_type": "code",
      "metadata": {
        "id": "4CbWbLzHzqTQ",
        "colab_type": "code",
        "cellView": "form",
        "colab": {}
      },
      "source": [
        "#@title Start Installation\n",
        "\n",
        "Version = \"620\" #@param [\"620\", \"1019\", \"last\"]\n",
        "!rm -fr DeepFaceLab_Colab\n",
        "if Version==\"620\":\n",
        "  print(\"620 Version loading....\")\n",
        "  # Get the DFL source code v1.6.1 stable version\n",
        "  !git clone -b v1.6.1 https://github.com/dream80/DeepFaceLab_Colab.git  \n",
        "elif Version==\"1019\":\n",
        "  print(\"1019 Version loading....\")\n",
        "  !git clone -b v1.10.19 https://github.com/dream80/DeepFaceLab_Colab.git  \n",
        "else:\n",
        "  print(\"The latest version is loading....\")\n",
        "  !git clone https://github.com/dream80/DeepFaceLab_Colab.git\n",
        "\n",
        "# Go to the DeepFaceLab_Colab directory\n",
        "%cd /content/drive/My Drive/DeepFaceLab/DeepFaceLab_Colab\n",
        "\n",
        "# Install Python dependencies\n",
        "!pip install -r requirements_colab.txt\n",
        "!pip install --upgrade scikit-image"
      ],
      "execution_count": 0,
      "outputs": []
    },
    {
      "cell_type": "markdown",
      "metadata": {
        "id": "9G9s5gJrty-x",
        "colab_type": "text"
      },
      "source": [
        "# Step 3. Extract the face"
      ]
    },
    {
      "cell_type": "code",
      "metadata": {
        "id": "YnhZyEERAW_D",
        "colab_type": "code",
        "cellView": "form",
        "colab": {}
      },
      "source": [
        "#@title Start extraction\n",
        "target = \"src\" #@param [\"src\",\"dst\"]\n",
        "%cd /content/drive/My Drive/DeepFaceLab/DeepFaceLab_Colab\n",
        "if target==\"src\":\n",
        "  !python main.py videoed extract-video --input-file ../workspace/data_src.mp4 --output-dir ../workspace/data_src/\n",
        "  !python main.py extract --input-dir ../workspace/data_src --output-dir ../workspace/data_src/aligned --detector s3fd --debug-dir ../workspace/data_src/aligned_debug\n",
        "else:\n",
        "  !python main.py videoed extract-video --input-file ../workspace/data_dst.mp4 --output-dir ../workspace/data_dst/\n",
        "  !python main.py extract --input-dir ../workspace/data_dst --output-dir ../workspace/data_dst/aligned --detector s3fd --debug-dir ../workspace/data_dst/aligned_debug\n",
        "  \n"
      ],
      "execution_count": 0,
      "outputs": []
    },
    {
      "cell_type": "code",
      "metadata": {
        "id": "5MrM8JfIFiy7",
        "colab_type": "code",
        "cellView": "form",
        "colab": {}
      },
      "source": [
        "#@title Start sorting\n",
        "target = \"src\" #@param [\"src\",\"dst\"]\n",
        "order = \"hist\" #@param [\"blur\", \"face\", \"face-dissim\", \"face-yaw\", \"face-pitch\", \"hist\", \"hist-dissim\", \"brightness\", \"hue\", \"black\", \"origname\", \"oneface\", \"final\", \"final-no-blur\"]\n",
        "\n",
        "if target==\"src\":\n",
        "  #Src Sort, you can view the results through Google Cloud Drive, delete bad images\n",
        "  cmd = \"main.py sort --input-dir ../workspace/data_src/aligned --by \"+order\n",
        "  \n",
        "else:\n",
        "  cmd = \"main.py sort --input-dir ../workspace/data_dst/aligned --by \"+order\n",
        "\n",
        "!python $cmd"
      ],
      "execution_count": 0,
      "outputs": []
    },
    {
      "cell_type": "markdown",
      "metadata": {
        "id": "QxO1kNO_uRTF",
        "colab_type": "text"
      },
      "source": [
        "# Step 4. Training model\n",
        "\n",
        "\n",
        "* Support models such as H128, SAE, DF, LIAEF128, and select models according to their own situation.\n",
        "* The first time you need to configure the model parameters, do not understand the direct return default.\n",
        "* If you don't want to train, you can click to stop. When you stop, an exception will be thrown, but it doesn't matter. Can continue training next time\n",
        "\n"
      ]
    },
    {
      "cell_type": "code",
      "metadata": {
        "id": "MKQbOrIiyFJL",
        "colab_type": "code",
        "cellView": "form",
        "colab": {}
      },
      "source": [
        "#@title Start training\n",
        "Model = \"H128\" #@param [\"SAEHD\", \"SAE\", \"H128\", \"LIAEF128\", \"DF\", \"AVATAR\"]\n",
        "\n",
        "%cd \"/content/drive/My Drive/DeepFaceLab/DeepFaceLab_Colab/\"\n",
        "cmd = \"main.py train --training-data-src-dir ../workspace/data_src/aligned --training-data-dst-dir ../workspace/data_dst/aligned --model-dir ../workspace/model --model \"+Model+\" --no-preview\"\n",
        "!python $cmd"
      ],
      "execution_count": 0,
      "outputs": []
    },
    {
      "cell_type": "markdown",
      "metadata": {
        "id": "oVfZpBR00gBG",
        "colab_type": "text"
      },
      "source": [
        "**Model preview method please refer to:**\n",
        "Https://www.wxp123.me/p/329\n",
        "\n",
        "Brief description: left->file->/driver/..../model/ *preview*.jpg->double click\n",
        "  \n",
        "This method is more convenient than previewing in a script and previewing on a web drive, and there is no need to launch a preview configuration!"
      ]
    },
    {
      "cell_type": "markdown",
      "metadata": {
        "id": "m2Ba96cVuS0K",
        "colab_type": "text"
      },
      "source": [
        "# Step 5. Convert the output\n",
        "\n",
        "What is the candidate for training the model, what to choose here\n",
        "For example, training H128, here is H128\n"
      ]
    },
    {
      "cell_type": "code",
      "metadata": {
        "id": "G_oEgeU7I9jt",
        "colab_type": "code",
        "cellView": "form",
        "colab": {}
      },
      "source": [
        "#@title Start converting images\n",
        "\n",
        "Model = \"H128\" #@param [\"SAEHD\", \"SAE\", \"H128\", \"LIAEF128\", \"DF\", \"AVATAR\"]\n",
        "%cd \"/content/drive/My Drive/DeepFaceLab/DeepFaceLab_Colab/\"\n",
        "cmd = \" main.py convert --input-dir ../workspace/data_dst --output-dir ../workspace/data_dst/merged --aligned-dir ../workspace/data_dst/aligned --model-dir ../workspace/model --model \" + Model\n",
        "!python $cmd"
      ],
      "execution_count": 0,
      "outputs": []
    },
    {
      "cell_type": "code",
      "metadata": {
        "colab_type": "code",
        "id": "fbxfQ8UbJrqk",
        "cellView": "form",
        "colab": {}
      },
      "source": [
        "#@title Start picture to video\n",
        "!python main.py videoed video-from-sequence --input-dir ../workspace/data_dst/merged --output-file ../workspace/result.mp4 --reference-file ../workspace/data_dst.mp4"
      ],
      "execution_count": 0,
      "outputs": []
    },
    {
      "cell_type": "markdown",
      "metadata": {
        "id": "cVfp8xbY5ykL",
        "colab_type": "text"
      },
      "source": [
        "#Step 6. Continue training\n",
        "You don't need to perform all the above steps when you start training for the second time, or continue training after dropping. Just a few simple steps are as follows.\n",
        "Mount the cloud disk\n",
        "2. Installation dependencies\n",
        "3. Start training\n",
        "**Note: **workspace.zip only contains src and dst, no model, otherwise the model will be overwritten. ! ! !"
      ]
    },
    {
      "cell_type": "code",
      "metadata": {
        "id": "veL_8afb6WcP",
        "colab_type": "code",
        "cellView": "form",
        "colab": {}
      },
      "source": [
        "#@title One-button operation\n",
        "#Mount Google Cloud Drive\n",
        "#Click the link authorization, copy the authorization code, fill in the box, and then press Enter.\n",
        "\n",
        "from google.colab import drive\n",
        "drive.mount('/content/drive', force_remount=True)\n",
        "\n",
        "#Re-covering decompression and increasing loading speed saves a lot of time\n",
        "%cd /content/drive/My Drive/DeepFaceLab/\n",
        "!unzip  -o workspace.zip\n",
        "\n",
        "\n",
        "# Go to the DeepFaceLab_Colab directory\n",
        "%cd /content/drive/My Drive/DeepFaceLab/DeepFaceLab_Colab\n",
        "\n",
        "# Install Python dependencies\n",
        "!pip install -r requirements-colab.txt\n",
        "!pip install --upgrade scikit-image\n",
        "\n",
        "# Start training SAE. If it is another model, modify the following parameters, such as H128.\n",
        "\n",
        "!python main.py train --training-data-src-dir ../workspace/data_src/aligned --training-data-dst-dir ../workspace/data_dst/aligned --model-dir ../workspace/model --model SAE --no-preview"
      ],
      "execution_count": 0,
      "outputs": []
    },
    {
      "cell_type": "markdown",
      "metadata": {
        "id": "siaPGJ1QVacj",
        "colab_type": "text"
      },
      "source": [
        "# Tool\n"
      ]
    },
    {
      "cell_type": "markdown",
      "metadata": {
        "id": "WGLTllAHYAPJ",
        "colab_type": "text"
      },
      "source": [
        "When using the script to practice the model, you will often need to upload, unzip, compress, download, etc. The following provides a decompressed and compressed script for everyone.\n",
        "All compressed files exist in the zip directory, the name is called data.zip, select the contents under the folder before compression.\n",
        "When extracting, upload a data.zip and choose where to extract it.\n",
        "\n"
      ]
    },
    {
      "cell_type": "code",
      "metadata": {
        "id": "fphcCxuh9Qfw",
        "colab_type": "code",
        "cellView": "form",
        "colab": {}
      },
      "source": [
        "#@title Adding..."
      ],
      "execution_count": 0,
      "outputs": []
    },
    {
      "cell_type": "markdown",
      "metadata": {
        "id": "5H85SsIW1PI3",
        "colab_type": "text"
      },
      "source": [
        "# other\n",
        "\n",
        " Google Cloud Address: https://drive.google.com/drive/my-drive\n",
        "\n",
        " Author email :wpgdream@gmail.com\n",
        " \n",
        " Use the tutorial: https://www.wxp123.me\n",
        " \n",
        " \n",
        "Don't ask for anything else, just ask for a little star in github ^_^\n",
        "\n",
        "https://github.com/dream80/DeepFaceLab_Colab\n",
        "\n",
        "Top right corner thank you!!!"
      ]
    }
  ]
}